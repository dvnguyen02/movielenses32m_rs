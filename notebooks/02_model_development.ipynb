{
 "cells": [
  {
   "cell_type": "code",
   "execution_count": 20,
   "metadata": {},
   "outputs": [],
   "source": [
    "import pandas as pd\n",
    "import numpy as np\n",
    "from surprise import SVD, Dataset, Reader\n",
    "from surprise.model_selection import train_test_split\n",
    "from surprise import accuracy\n",
    "import seaborn as sns"
   ]
  },
  {
   "cell_type": "code",
   "execution_count": 3,
   "metadata": {},
   "outputs": [],
   "source": [
    "ratings = pd.read_csv('data/ratings.csv')\n",
    "movies = pd.read_csv('data/movies.csv')\n"
   ]
  },
  {
   "cell_type": "code",
   "execution_count": 7,
   "metadata": {},
   "outputs": [],
   "source": [
    "reader = Reader(rating_scale=(0.5, 5))\n",
    "data = Dataset.load_from_df(ratings[['userId', 'movieId', 'rating']], reader)"
   ]
  },
  {
   "cell_type": "code",
   "execution_count": 8,
   "metadata": {},
   "outputs": [],
   "source": [
    "trainset, testset = train_test_split(data, test_size=0.25, random_state=42)"
   ]
  },
  {
   "cell_type": "code",
   "execution_count": 4,
   "metadata": {},
   "outputs": [],
   "source": [
    "svd = SVD(n_factors=100, n_epochs=20, lr_all=0.005, reg_all=0.02)\n"
   ]
  },
  {
   "cell_type": "code",
   "execution_count": null,
   "metadata": {},
   "outputs": [],
   "source": [
    "svd.fit(trainset)"
   ]
  },
  {
   "cell_type": "code",
   "execution_count": 10,
   "metadata": {},
   "outputs": [],
   "source": [
    "predictions = svd.test(testset)"
   ]
  },
  {
   "cell_type": "code",
   "execution_count": null,
   "metadata": {},
   "outputs": [],
   "source": [
    "# 5. Evaluate the Model\n",
    "# Calculate and print the RMSE\n",
    "rmse = accuracy.rmse(predictions)\n",
    "print(f\"RMSE: {rmse}\")\n",
    "\n",
    "# Calculate and print the MAE\n",
    "mae = accuracy.mae(predictions)\n",
    "print(f\"MAE: {mae}\")"
   ]
  },
  {
   "cell_type": "code",
   "execution_count": 12,
   "metadata": {},
   "outputs": [],
   "source": [
    "# Generate Recommendations\n",
    "# Function to get top-N recommendations for a user\n",
    "def get_top_n_recommendations(model, user_id, n=10):\n",
    "    # Get a list of all movie IDs\n",
    "    all_movie_ids = movies['movieId'].unique()\n",
    "    \n",
    "    # Predict ratings for all movies this user hasn't rated yet\n",
    "    user_ratings = ratings[ratings['userId'] == user_id]['movieId']\n",
    "    movies_to_predict = list(set(all_movie_ids) - set(user_ratings))\n",
    "    \n",
    "    # Make predictions\n",
    "    predictions = [model.predict(user_id, movie_id) for movie_id in movies_to_predict]\n",
    "    \n",
    "    # Sort predictions by estimated rating\n",
    "    top_n = sorted(predictions, key=lambda x: x.est, reverse=True)[:n]\n",
    "    \n",
    "    # Get movie titles\n",
    "    top_n_titles = [(movies[movies['movieId'] == pred.iid]['title'].iloc[0], pred.est) for pred in top_n]\n",
    "    \n",
    "    return top_n_titles"
   ]
  },
  {
   "cell_type": "code",
   "execution_count": null,
   "metadata": {},
   "outputs": [],
   "source": [
    "user_id = 1\n",
    "recommendations = get_top_n_recommendations(svd, user_id)\n",
    "\n",
    "print(f\"Top 10 recommendations for user {user_id}:\")\n",
    "for title, est in recommendations:\n",
    "    print(f\"{title}: Estimated rating = {est:.2f}\")"
   ]
  },
  {
   "cell_type": "markdown",
   "metadata": {},
   "source": [
    "## An example to analyze our recommendation system"
   ]
  },
  {
   "cell_type": "code",
   "execution_count": null,
   "metadata": {},
   "outputs": [],
   "source": [
    "import matplotlib.pyplot as plt\n",
    "def get_genre_distribution(movie_ids):\n",
    "    genre_list = movies[movies['movieId'].isin(movie_ids)]['genres'].str.split('|', expand=True).stack()\n",
    "    return genre_list.value_counts(normalize=True)\n",
    "\n",
    "# Get recommendations for a sample user\n",
    "sample_user = 1\n",
    "recommendations = get_top_n_recommendations(svd, sample_user, n=20)\n",
    "recommended_movie_ids = [movies[movies['title'] == rec[0]]['movieId'].iloc[0] for rec in recommendations]\n",
    "\n",
    "# Get genre distribution of recommended movies\n",
    "rec_genre_dist = get_genre_distribution(recommended_movie_ids)\n",
    "\n",
    "# Get genre distribution of all movies the user has rated\n",
    "user_rated_movies = ratings[ratings['userId'] == sample_user]['movieId']\n",
    "user_genre_dist = get_genre_distribution(user_rated_movies)\n",
    "\n",
    "# Plot comparison\n",
    "plt.figure(figsize=(12, 6))\n",
    "bar_width = 0.35\n",
    "index = np.arange(len(rec_genre_dist))\n",
    "\n",
    "plt.bar(index, rec_genre_dist, bar_width, label='Recommended Movies')\n",
    "plt.bar(index + bar_width, user_genre_dist.reindex(rec_genre_dist.index), bar_width, label='User Rated Movies')\n",
    "\n",
    "plt.xlabel('Genre')\n",
    "plt.ylabel('Proportion')\n",
    "plt.title(f'Genre Distribution: Recommended vs. Rated Movies for User {sample_user}')\n",
    "plt.xticks(index + bar_width/2, rec_genre_dist.index, rotation=45, ha='right')\n",
    "plt.legend()\n",
    "plt.tight_layout()\n",
    "plt.show()"
   ]
  }
 ],
 "metadata": {
  "kernelspec": {
   "display_name": "base",
   "language": "python",
   "name": "python3"
  },
  "language_info": {
   "codemirror_mode": {
    "name": "ipython",
    "version": 3
   },
   "file_extension": ".py",
   "mimetype": "text/x-python",
   "name": "python",
   "nbconvert_exporter": "python",
   "pygments_lexer": "ipython3",
   "version": "3.11.7"
  }
 },
 "nbformat": 4,
 "nbformat_minor": 2
}
