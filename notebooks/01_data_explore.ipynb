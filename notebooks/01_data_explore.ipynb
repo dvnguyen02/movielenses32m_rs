{
 "cells": [
  {
   "cell_type": "code",
   "execution_count": 2,
   "metadata": {},
   "outputs": [],
   "source": [
    "import pandas as pd\n",
    "import numpy as np\n",
    "import matplotlib.pyplot as plt\n",
    "import seaborn as sns\n"
   ]
  },
  {
   "cell_type": "code",
   "execution_count": 3,
   "metadata": {},
   "outputs": [],
   "source": [
    "ratings = pd.read_csv('data/ratings.csv')\n",
    "movies = pd.read_csv('data/movies.csv')"
   ]
  },
  {
   "cell_type": "code",
   "execution_count": null,
   "metadata": {},
   "outputs": [],
   "source": [
    "ratings.info()\n"
   ]
  },
  {
   "cell_type": "code",
   "execution_count": null,
   "metadata": {},
   "outputs": [],
   "source": [
    "movies.info()"
   ]
  },
  {
   "cell_type": "code",
   "execution_count": null,
   "metadata": {},
   "outputs": [],
   "source": [
    "ratings.head()"
   ]
  },
  {
   "cell_type": "code",
   "execution_count": null,
   "metadata": {},
   "outputs": [],
   "source": [
    "movies.head()"
   ]
  },
  {
   "cell_type": "code",
   "execution_count": null,
   "metadata": {},
   "outputs": [],
   "source": [
    "ratings.describe()"
   ]
  },
  {
   "cell_type": "code",
   "execution_count": null,
   "metadata": {},
   "outputs": [],
   "source": [
    "movies.describe(include='object')"
   ]
  },
  {
   "cell_type": "code",
   "execution_count": null,
   "metadata": {},
   "outputs": [],
   "source": [
    "plt.figure(figsize=(10, 6))\n",
    "sns.histplot(ratings['rating'], bins=10, kde=True)\n",
    "plt.title('Distribution of Ratings')\n",
    "plt.show()"
   ]
  },
  {
   "cell_type": "code",
   "execution_count": null,
   "metadata": {},
   "outputs": [],
   "source": [
    "movie_ratings_count = ratings['movieId'].value_counts()\n",
    "plt.figure(figsize=(10, 6))\n",
    "sns.histplot(movie_ratings_count, bins=50, kde=True)\n",
    "plt.title('Distribution of Number of Ratings per Movie')\n",
    "plt.xlabel('Number of Ratings')\n",
    "plt.xscale('log')\n",
    "plt.show()"
   ]
  },
  {
   "cell_type": "code",
   "execution_count": null,
   "metadata": {},
   "outputs": [],
   "source": [
    "df = pd.merge(ratings, movies, on='movieId')"
   ]
  },
  {
   "cell_type": "code",
   "execution_count": null,
   "metadata": {},
   "outputs": [],
   "source": [
    "df['timestamp'] = pd.to_datetime(df['timestamp'], unit='s')\n",
    "df['year'] = df['timestamp'].dt.year\n",
    "\n",
    "yearly_ratings = df.groupby('year')['rating'].agg(['mean', 'count'])\n",
    "plt.figure(figsize=(12, 6))\n",
    "plt.plot(yearly_ratings.index, yearly_ratings['mean'], marker='o')\n",
    "plt.title('Average Rating by Year')\n",
    "plt.xlabel('Year')\n",
    "plt.ylabel('Average Rating')\n",
    "plt.show()"
   ]
  },
  {
   "cell_type": "markdown",
   "metadata": {},
   "source": [
    "This plot shows how average ratings have changed over time. There's quite of a drop around 2005 which is quite intertesting, this might indicate the movie during that time period is not so good? \n",
    "\n",
    "The average rating then increases from time to time until it hits early 2015 where the rating started to come down again.\n",
    "\n"
   ]
  },
  {
   "cell_type": "code",
   "execution_count": null,
   "metadata": {},
   "outputs": [],
   "source": [
    "genres = df['genres'].str.get_dummies(sep='|')\n",
    "genre_counts = genres.sum().sort_values(ascending=False)\n",
    "\n",
    "plt.figure(figsize=(12, 6))\n",
    "genre_counts.plot(kind='bar')\n",
    "plt.title('Movie Count by Genre')\n",
    "plt.xlabel('Genre')\n",
    "plt.ylabel('Number of Movies')\n",
    "plt.xticks(rotation=45, ha='right')\n",
    "plt.tight_layout()\n",
    "plt.show()"
   ]
  },
  {
   "cell_type": "markdown",
   "metadata": {},
   "source": [
    "This bar chart shows the distribution of movies across different genres. \n",
    "\n",
    "We can easily identify Drama is the most common genre in this dataset, follow up by Comedy. \n",
    "\n",
    "The least common genres are Documentary and Film-Noir"
   ]
  },
  {
   "cell_type": "code",
   "execution_count": null,
   "metadata": {},
   "outputs": [],
   "source": [
    "user_activity = df.groupby('userId')['rating'].count().sort_values(ascending=False)\n",
    "\n",
    "plt.figure(figsize=(12, 6))\n",
    "sns.histplot(user_activity, bins=50, kde=True)\n",
    "plt.title('Distribution of User Activity')\n",
    "plt.xlabel('Number of Ratings per User')\n",
    "plt.ylabel('Number of Users')\n",
    "plt.xscale('log')\n",
    "plt.show()"
   ]
  },
  {
   "cell_type": "code",
   "execution_count": null,
   "metadata": {},
   "outputs": [],
   "source": [
    "movie_stats = df.groupby('movieId').agg({'rating': ['mean', 'count']})\n",
    "movie_stats.columns = ['avg_rating', 'num_ratings']\n",
    "\n",
    "plt.figure(figsize=(10, 6))\n",
    "plt.scatter(movie_stats['num_ratings'], movie_stats['avg_rating'], alpha=0.5)\n",
    "plt.xscale('log')\n",
    "plt.title('Movie Popularity vs Average Rating')\n",
    "plt.xlabel('Number of Ratings (log scale)')\n",
    "plt.ylabel('Average Rating')\n",
    "plt.show()"
   ]
  },
  {
   "cell_type": "markdown",
   "metadata": {},
   "source": [
    "As the number of ratings increases (moving right on the x-axis), the spread of average ratings narrows.\n",
    "\n",
    "Very unpopular movies (far left) have a wide range of average ratings, from very low to very high (5.0).\n",
    "\n",
    "Highly popular movies (far right) tend to have average ratings clustered between about 3.0 and 4.5.\n",
    "\n",
    "There's a slight upward trend in the lower bound of ratings as popularity increases, suggesting that very popular movies rarely have extremely low average ratings.\n",
    "\n",
    "\n",
    "Popular movies tend to have more consistent ratings, likely due to larger sample sizes.\n",
    "Unpopular movies show more rating volatility, possibly due to smaller sample sizes."
   ]
  },
  {
   "cell_type": "code",
   "execution_count": null,
   "metadata": {},
   "outputs": [],
   "source": [
    "from wordcloud import WordCloud\n",
    "\n",
    "title_text = ' '.join(movies['title'])\n",
    "wordcloud = WordCloud(width=800, height=400, background_color='white').generate(title_text)\n",
    "\n",
    "plt.figure(figsize=(10, 5))\n",
    "plt.imshow(wordcloud, interpolation='bilinear')\n",
    "plt.axis('off')\n",
    "plt.title('Word Cloud of Movie Titles')\n",
    "plt.show()"
   ]
  },
  {
   "cell_type": "markdown",
   "metadata": {},
   "source": [
    "\"Love\" and \"Man\" are the two most dominant words, followed by \"Life\" and \"Girl\". This kinda makes sense to the previous graphs on the counts of movies genres since the most common genre was Drama, which involved a lot around these key words. These titles also focus on specific character and some of them also focus on time periods (i.e \"Day\" and \"Night\")\n",
    "\n",
    "The prevalence of words like \"Last,\" \"New,\" and \"First\" suggests many movies are part of series or emphasize novelty.\n"
   ]
  }
 ],
 "metadata": {
  "kernelspec": {
   "display_name": "base",
   "language": "python",
   "name": "python3"
  },
  "language_info": {
   "codemirror_mode": {
    "name": "ipython",
    "version": 3
   },
   "file_extension": ".py",
   "mimetype": "text/x-python",
   "name": "python",
   "nbconvert_exporter": "python",
   "pygments_lexer": "ipython3",
   "version": "3.11.7"
  }
 },
 "nbformat": 4,
 "nbformat_minor": 2
}
